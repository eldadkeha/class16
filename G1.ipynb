{
 "cells": [
  {
   "cell_type": "code",
   "execution_count": 1,
   "id": "669e0594-2513-4285-b806-69adae740444",
   "metadata": {},
   "outputs": [
    {
     "data": {
      "application/vnd.jupyter.widget-view+json": {
       "model_id": "d5fbdf1968d843b3a4adf8880289be20",
       "version_major": 2,
       "version_minor": 0
      },
      "text/plain": [
       "interactive(children=(Dropdown(description='SamplesNumber', index=4, options=(100, 1000, 2000, 5000, 10000), v…"
      ]
     },
     "metadata": {},
     "output_type": "display_data"
    }
   ],
   "source": [
    "\n",
    "# nbi:hide_in \n",
    "import pandas as pd\n",
    "import seaborn as sns\n",
    "import numpy as np\n",
    "import matplotlib.pyplot as plt\n",
    "from ipywidgets import interact, interactive, fixed, interact_manual, Layout\n",
    "import ipywidgets as widgets\n",
    "import random\n",
    "from random import choices\n",
    "from scipy import stats\n",
    "from IPython.display import HTML\n",
    "from scipy.stats import norm\n",
    "import math\n",
    "#@title The mean Variance of taking many samples, each sample with n observations in it (the group size is n)\n",
    "\n",
    "##blue - variance of sample of size 1-maxsize\n",
    "##green - mean of variances from 1000 samples of size 1-maxsize\n",
    "##red - actual variance\n",
    "\n",
    "def graph(SamplesNumber=10000, samplesize = 2):\n",
    "    normVar = np.zeros(SamplesNumber)\n",
    "    normVarMean = np.zeros(SamplesNumber)\n",
    "    for n in range(0,SamplesNumber):\n",
    "          normVar = np.random.normal(30, 3, samplesize)\n",
    "          normVarMean[n] = np.var(normVar)\n",
    "\n",
    "    plt.figure(1,figsize=(12,8))\n",
    "    sns.histplot(normVarMean,alpha=0.5, stat = \"density\", color=\"b\",label=\"variance of sample with size n\");\n",
    "    plt.title(\"Mean variance of samples as a function of sample size\", size = 28, color = \"steelblue\")\n",
    "    plt.xlabel('Mean of variances', size = 24);\n",
    "    plt.ylabel('Density', size = 24);\n",
    "    plt.axvline(x = np.mean(normVarMean), ymin=0, ymax=1, color = \"red\", lw=4, label = \"Mean of variances \" +str(np.round(np.mean(normVarMean),decimals = 5)));\n",
    "    plt.axvline(x = np.mean(normVarMean)-np.median(normVarMean), ymin=0, ymax=1, color = \"green\", lw=4, label = \"Median of variances \" +str(np.round(np.median(normVarMean),decimals = 5)));\n",
    "    plt.axvline(x = np.median(normVarMean), ymin=0, ymax=1, color = \"black\", lw=0, label = \"Difference between mean and median \" +str(np.round(np.mean(normVarMean)-np.median(normVarMean),decimals = 5)));\n",
    "    plt.axvline(x = 9, ymin=0, ymax=1, color = \"blue\", lw=4, label = \"Variance in the population \");\n",
    "    plt.xticks(size = 24,color = \"steelblue\");\n",
    "    plt.xlim(0,50);\n",
    "    plt.yticks(size = 24,color = \"steelblue\");\n",
    "    plt.legend(fontsize = 14, loc = 5);\n",
    "    \n",
    "_=interact(graph, SamplesNumber=[100,1000,2000,5000,10000], samplesize = (2,10000,1))\n",
    "\n"
   ]
  },
  {
   "cell_type": "code",
   "execution_count": null,
   "id": "17f10937-e549-462b-a3f1-74bcec6964ab",
   "metadata": {},
   "outputs": [],
   "source": []
  }
 ],
 "metadata": {
  "kernelspec": {
   "display_name": "Python 3 (ipykernel)",
   "language": "python",
   "name": "python3"
  },
  "language_info": {
   "codemirror_mode": {
    "name": "ipython",
    "version": 3
   },
   "file_extension": ".py",
   "mimetype": "text/x-python",
   "name": "python",
   "nbconvert_exporter": "python",
   "pygments_lexer": "ipython3",
   "version": "3.7.12"
  }
 },
 "nbformat": 4,
 "nbformat_minor": 5
}
