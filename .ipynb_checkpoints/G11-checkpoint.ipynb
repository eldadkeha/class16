{
 "cells": [
  {
   "cell_type": "code",
   "execution_count": 1,
   "id": "222684f6-ecb3-4dd8-8d01-0ef2bb72e5c6",
   "metadata": {},
   "outputs": [
    {
     "data": {
      "application/vnd.jupyter.widget-view+json": {
       "model_id": "905b7e8ac513450587a1ea29899c4aed",
       "version_major": 2,
       "version_minor": 0
      },
      "text/plain": [
       "interactive(children=(FloatSlider(value=0.61, description='Mean A', layout=Layout(width='700px'), max=1.5, min…"
      ]
     },
     "metadata": {},
     "output_type": "display_data"
    }
   ],
   "source": [
    "# nbi:hide_in \n",
    "import pandas as pd\n",
    "import seaborn as sns\n",
    "import numpy as np\n",
    "import matplotlib.pyplot as plt\n",
    "from ipywidgets import interact, interactive, fixed, interact_manual, Layout, interactive_output, HBox\n",
    "import ipywidgets as widgets\n",
    "import random\n",
    "from random import choices\n",
    "from scipy import stats\n",
    "from IPython.display import HTML\n",
    "from scipy.stats import norm\n",
    "import math\n",
    "\n",
    "sns.set(font=\"serif\", style = \"white\")\n",
    "\n",
    "def SamplingDist(meanA = 0.61,stdA = 0.07,sizeA=12, meanB = 0.51,stdB=0.05,sizeB=12):\n",
    "    meanFTNA = np.zeros(10000)\n",
    "    meanFTNB = np.zeros(10000)\n",
    "    meanFTNC = np.zeros(10000)\n",
    "    distA = np.random.normal(0.02, stdA, sizeA)\n",
    "    distB = np.random.normal(0.02, stdB, sizeB)\n",
    "    dist1 = np.random.normal(0.02, stdA, 10000)\n",
    "    dist2 = np.random.normal(0.02, stdB, 10000)\n",
    "    for i in range(10000):\n",
    "        rsa = random.choices(dist1, k=sizeA)\n",
    "        meanFTNA[i]=np.mean(rsa)\n",
    "        rsb = random.choices(dist2, k=sizeB)\n",
    "        meanFTNB[i]=np.mean(rsb)\n",
    "        meanFTNC[i] =  meanFTNA[i] - meanFTNB[i]\n",
    "        typeI = np.percentile(meanFTNC,100-0.05*100)\n",
    "    \n",
    "    plt.figure(figsize=(14,6))\n",
    "    sns.histplot(meanFTNC, bins=36, stat = \"density\", color=\"tan\",label=\"Samplong Distribution\");\n",
    "    sns.kdeplot(meanFTNC,color=\"silver\", linewidth = 6);\n",
    "    plt.xticks(np.arange(-0.11,0.12, step = 0.01))\n",
    "    plt.axvline(x=typeI, ymin=0,ymax=5, color='black', linestyle='--', label = chr(945)+\" Criterion\");\n",
    "    plt.axvline(x=meanA-meanB, ymin=0,ymax=5, color='firebrick',lw = 4, linestyle='-', label = \"Mean Difference = \" + str(np.round((meanA-meanB), decimals = 3)));\n",
    "    plt.legend()\n",
    "\n",
    "\n",
    "style = {'description_width': 'initial'}    \n",
    "int_widget = interactive(SamplingDist,meanA=widgets.FloatSlider(value=0.61,min=0.01,max=1.5,step=0.01, description = \"Mean A\",readout_format='.2f',style = style),\n",
    "                            meanB=widgets.FloatSlider(value=0.51,min=0.01,max=1.5,step=0.01, description = \"Mean B\",readout_format='.2f',style = style),\n",
    "                            stdA=widgets.FloatSlider(value=0.07,min=0,max=1,step=0.01, description = \"Standard Deviation A\",readout_format='.2f',style = style),\n",
    "                            stdB=widgets.FloatSlider(value=0.05,min=0,max=1,step=0.01, description = \"Standard Deviation B\",readout_format='.2f',style = style),\n",
    "                            sizeA=widgets.IntSlider(value=12,min=3,max=100,step=1, description = \"Sample Size A\",readout_format='d',style = style),\n",
    "                            sizeB=widgets.IntSlider(value=12,min=3,max=100,step=1, description = \"Sample Size B\",readout_format='d',style = style))\n",
    "\n",
    "int_widget.children[0].layout = Layout(width='700px')\n",
    "int_widget.children[1].layout = Layout(width='700px')\n",
    "int_widget.children[2].layout = Layout(width='700px', font_size='24')\n",
    "int_widget.children[3].layout = Layout(width='700px', font_size='24')\n",
    "int_widget.children[4].layout = Layout(width='700px', font_size='24')\n",
    "int_widget.children[5].layout = Layout(width='700px', font_size='24')\n",
    "\n",
    "int_widget.children[0].style.handle_color = 'brown'\n",
    "int_widget.children[1].style.handle_color = 'brown'\n",
    "int_widget.children[2].style.handle_color = 'brown' \n",
    "int_widget.children[3].style.handle_color = 'silver' \n",
    "int_widget.children[4].style.handle_color = 'silver' \n",
    "int_widget.children[5].style.handle_color = 'silver' \n",
    "\n",
    "\n",
    "display(int_widget)\n",
    "\n",
    "\n",
    "\n"
   ]
  },
  {
   "cell_type": "code",
   "execution_count": null,
   "id": "499dc9fe-8c06-4659-bbc8-0e9a5a487c18",
   "metadata": {},
   "outputs": [],
   "source": []
  }
 ],
 "metadata": {
  "kernelspec": {
   "display_name": "Python 3 (ipykernel)",
   "language": "python",
   "name": "python3"
  },
  "language_info": {
   "codemirror_mode": {
    "name": "ipython",
    "version": 3
   },
   "file_extension": ".py",
   "mimetype": "text/x-python",
   "name": "python",
   "nbconvert_exporter": "python",
   "pygments_lexer": "ipython3",
   "version": "3.7.12"
  }
 },
 "nbformat": 4,
 "nbformat_minor": 5
}
