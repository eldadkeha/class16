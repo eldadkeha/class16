{
 "cells": [
  {
   "cell_type": "code",
   "execution_count": 1,
   "id": "7056747f-ade9-45ec-9c4e-3bdc0bdeef82",
   "metadata": {},
   "outputs": [
    {
     "data": {
      "application/vnd.jupyter.widget-view+json": {
       "model_id": "21a47604ca344d1393d2d4ecdef7d5be",
       "version_major": 2,
       "version_minor": 0
      },
      "text/plain": [
       "interactive(children=(FloatSlider(value=0.61, description='Mean A', layout=Layout(width='600px'), max=1.5, min…"
      ]
     },
     "metadata": {},
     "output_type": "display_data"
    }
   ],
   "source": [
    "import numpy as np\n",
    "import pandas as pd\n",
    "import seaborn as sns\n",
    "import numpy as np\n",
    "import matplotlib.pyplot as plt\n",
    "from ipywidgets import interact, interactive, fixed, interact_manual, Layout, interactive_output, HBox\n",
    "import ipywidgets as widgets\n",
    "import random\n",
    "from random import choices\n",
    "from scipy import stats\n",
    "from IPython.display import HTML\n",
    "from scipy.stats import norm\n",
    "import math\n",
    "from scipy.stats import ttest_ind_from_stats\n",
    "\n",
    "def cit (meanA = 0.61, meanB = 0.51, stdA = 0.07, stdB = 0.05, df = 22):\n",
    "    Ttest_indResult = ttest_ind_from_stats(mean1=meanA, std1=(stdA), nobs1=df/2,mean2=meanB, std2=(stdB), nobs2=df/2)\n",
    "    print(\"t-value = \" +str( np.round(Ttest_indResult[0], decimals = 3)),\"p-value = \" +str( np.round(Ttest_indResult[1], decimals = 6)))\n",
    "    fig, ax = plt.subplots(figsize=(8, 6))\n",
    "    conf_pinkman = stats.t.interval(1 - 0.05, df/2, loc=meanA, scale=  stdA / np.sqrt((df/2)+1))\n",
    "    conf_white = stats.t.interval(1 - 0.05, df/2, loc=meanB, scale= stdB / np.sqrt((df/2)+1))\n",
    "    conf_eldad = stats.t.interval(1 - 0.05, df/2, loc=meanA-meanB, \n",
    "                                  scale= ((math.sqrt( ((stdA*stdA) * (df/2) + (stdB*stdB) * (df/2)) / (df))) * (math.sqrt( (1/(df/2+1))*2 ))))\n",
    "\n",
    "\n",
    "    ax.errorbar(meanA, 1, xerr=(conf_white[1] - conf_white[0]) / 2,\n",
    "                fmt='o', markersize=14, lw = 4, capsize=12, label='Good SSRT', color='tan')\n",
    "    ax.errorbar(meanB, 0, xerr=(conf_pinkman[1] - conf_pinkman[0]) / 2,\n",
    "                fmt='o', markersize=14, lw = 4, capsize=12, label='Bad SSRT', color='firebrick')\n",
    "    ax.errorbar(meanA-meanB, 0.5, xerr=(conf_eldad[1] - conf_eldad[0]) / 2,\n",
    "                fmt='o', markersize=14, lw = 4, capsize=12, label='Confidence Interval of the difference', color='silver')\n",
    "    ax.set_ylim(-0.6, 1.6)\n",
    "    ax.set_xlim(-0.6, 1)\n",
    "    ax.fill_betweenx([1, 0], conf_white[0], conf_pinkman[1], facecolor='silver', alpha=0.3)\n",
    "    ax.legend(loc=2, fontsize=18, framealpha=1, frameon=True)\n",
    "    ax.set_xlabel('BOLD Signal (%)', fontsize=20)\n",
    "    ax.yaxis.set_major_formatter(plt.NullFormatter())\n",
    "    fig.tight_layout();\n",
    "    \n",
    "style = {'description_width': 'initial'}    \n",
    "int_widget = interactive(cit,meanA=widgets.FloatSlider(value=0.61,min=0.01,max=1.5,step=0.01, description = \"Mean A\",readout_format='.2f',style = style),\n",
    "                             meanB=widgets.FloatSlider(value=0.51,min=0.01,max=1.5,step=0.01, description = \"Mean B\",readout_format='.2f',style = style),\n",
    "                             stdA=widgets.FloatSlider(value=0.07,min=0.01,max=1.5,step=0.01, description = \"Standard Deviation A\",readout_format='.2f',style = style),\n",
    "                             stdB=widgets.FloatSlider(value=0.05,min=0.01,max=1.5,step=0.01, description = \"Standard Deviation B\",readout_format='.2f',style = style),\n",
    "                             df=widgets.IntSlider(value=22,min=1,max=100,step=1, description = \"DF\",readout_format='d',style = style))\n",
    "\n",
    "int_widget.children[0].layout = Layout(width='600px')\n",
    "int_widget.children[1].layout = Layout(width='600px')\n",
    "int_widget.children[2].layout = Layout(width='600px', font_size='24')\n",
    "int_widget.children[3].layout = Layout(width='600px', font_size='24')\n",
    "int_widget.children[4].layout = Layout(width='600px', font_size='24')\n",
    "\n",
    "int_widget.children[0].style.handle_color = 'tan'\n",
    "int_widget.children[1].style.handle_color = 'firebrick'\n",
    "int_widget.children[2].style.handle_color = 'tan' \n",
    "int_widget.children[3].style.handle_color = 'firebrick' \n",
    "int_widget.children[4].style.handle_color = 'silver' \n",
    "\n",
    "display(int_widget)\n"
   ]
  },
  {
   "cell_type": "code",
   "execution_count": null,
   "id": "a0063609-e939-4ba5-81e5-87de3b4f559b",
   "metadata": {},
   "outputs": [],
   "source": []
  }
 ],
 "metadata": {
  "kernelspec": {
   "display_name": "Python 3 (ipykernel)",
   "language": "python",
   "name": "python3"
  },
  "language_info": {
   "codemirror_mode": {
    "name": "ipython",
    "version": 3
   },
   "file_extension": ".py",
   "mimetype": "text/x-python",
   "name": "python",
   "nbconvert_exporter": "python",
   "pygments_lexer": "ipython3",
   "version": "3.7.12"
  }
 },
 "nbformat": 4,
 "nbformat_minor": 5
}
