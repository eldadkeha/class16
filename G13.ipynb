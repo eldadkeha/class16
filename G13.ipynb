{
 "cells": [
  {
   "cell_type": "code",
   "execution_count": 1,
   "id": "7a3c0ab1-591b-4115-bd51-9dd7b64f92b8",
   "metadata": {},
   "outputs": [
    {
     "data": {
      "application/vnd.jupyter.widget-view+json": {
       "model_id": "95dc26976e88466b9b9574de4d2f8384",
       "version_major": 2,
       "version_minor": 0
      },
      "text/plain": [
       "interactive(children=(FloatSlider(value=70.0, description='Mean A', layout=Layout(width='700px'), min=1.0, rea…"
      ]
     },
     "metadata": {},
     "output_type": "display_data"
    }
   ],
   "source": [
    "# nbi:hide_in \n",
    "import pandas as pd\n",
    "import seaborn as sns\n",
    "import numpy as np\n",
    "import matplotlib.pyplot as plt\n",
    "from ipywidgets import interact, interactive, fixed, interact_manual, Layout, interactive_output, HBox\n",
    "import ipywidgets as widgets\n",
    "import random\n",
    "from random import choices\n",
    "from scipy import stats\n",
    "from IPython.display import HTML\n",
    "from scipy.stats import norm\n",
    "import math\n",
    "\n",
    "sns.set(font=\"serif\", style = \"white\")\n",
    "\n",
    "def SamplingDist(meanA = 70,stdA = 10,sizeA=30, meanB = 73,stdB=10,sizeB=30):\n",
    "    meanFTNA = np.zeros(10000)\n",
    "    meanFTNB = np.zeros(10000)\n",
    "    meanFTNC = np.zeros(10000)\n",
    "    distA = np.random.normal(meanA, stdA, sizeA)\n",
    "    distB = np.random.normal(meanB, stdB, sizeB)\n",
    "    dist1 = np.random.normal(meanA, stdA, 10000)\n",
    "    dist2 = np.random.normal(meanB, stdB, 10000)\n",
    "    for i in range(10000):\n",
    "        rsa = random.choices(dist1, k=sizeA)\n",
    "        meanFTNA[i]=np.mean(rsa)\n",
    "        rsb = random.choices(dist2, k=sizeB)\n",
    "        meanFTNB[i]=np.mean(rsb)\n",
    "        meanFTNC[i] =  meanFTNA[i] -  meanFTNB[i]\n",
    "    \n",
    "    fig,axes=plt.subplots(nrows=1, ncols=3,figsize=(15,7))\n",
    "    axes[0].set_ylim(ymin=1, ymax=10)\n",
    "    axes[0].hist(distA, bins=12,color=\"brown\",label=\"Group A\");\n",
    "    axes[0].legend()\n",
    "    \n",
    "    axes[1].hist(meanFTNA, bins=12,color=\"brown\", label=\"Group A\");\n",
    "    axes[1].hist(meanFTNB, bins=12,color=\"silver\",label=\"Group B\");\n",
    "    axes[1].legend()\n",
    "    axes[1].set_title(\"Sampling Distributions\");\n",
    "    axes[1].set_xlim(min(meanA,meanB)-2*max(stdA,stdB),max(meanA,meanB)+2*max(stdA,stdB))\n",
    "    \n",
    "    axes[2].hist(meanFTNC, bins=24,color=\"tan\",label=\"Difference\");\n",
    "    axes[2].legend()\n",
    "\n",
    "\n",
    "style = {'description_width': 'initial'}    \n",
    "int_widget = interactive(SamplingDist,meanA=widgets.FloatSlider(value=70,min=1,max=100,step=0.1, description = \"Mean A\",readout_format='.1f',style = style),\n",
    "                            meanB=widgets.FloatSlider(value=73,min=1,max=100,step=0.1, description = \"Mean B\",readout_format='.1f',style = style),\n",
    "                            stdA=widgets.FloatSlider(value=10,min=3,max=20,step=0.1, description = \"Standard Deviation A\",readout_format='.1f',style = style),\n",
    "                            stdB=widgets.FloatSlider(value=10,min=3,max=20,step=0.1, description = \"Standard Deviation B\",readout_format='.1f',style = style),\n",
    "                            sizeA=widgets.IntSlider(value=30,min=3,max=20,step=1, description = \"Sample Size A\",readout_format='d',style = style),\n",
    "                            sizeB=widgets.IntSlider(value=30,min=3,max=20,step=1, description = \"Sample Size B\",readout_format='d',style = style))\n",
    "\n",
    "int_widget.children[0].layout = Layout(width='700px')\n",
    "int_widget.children[1].layout = Layout(width='700px')\n",
    "int_widget.children[2].layout = Layout(width='700px', font_size='24')\n",
    "int_widget.children[3].layout = Layout(width='700px', font_size='24')\n",
    "int_widget.children[4].layout = Layout(width='700px', font_size='24')\n",
    "int_widget.children[5].layout = Layout(width='700px', font_size='24')\n",
    "\n",
    "int_widget.children[0].style.handle_color = 'brown'\n",
    "int_widget.children[1].style.handle_color = 'brown'\n",
    "int_widget.children[2].style.handle_color = 'brown' \n",
    "int_widget.children[3].style.handle_color = 'silver' \n",
    "int_widget.children[4].style.handle_color = 'silver' \n",
    "int_widget.children[5].style.handle_color = 'silver' \n",
    "\n",
    "\n",
    "display(int_widget)\n",
    "\n",
    "\n",
    "\n"
   ]
  },
  {
   "cell_type": "code",
   "execution_count": null,
   "id": "ed6b11e8-0c4c-4c0e-a774-1bbe82e15a83",
   "metadata": {},
   "outputs": [],
   "source": []
  }
 ],
 "metadata": {
  "kernelspec": {
   "display_name": "Python 3 (ipykernel)",
   "language": "python",
   "name": "python3"
  },
  "language_info": {
   "codemirror_mode": {
    "name": "ipython",
    "version": 3
   },
   "file_extension": ".py",
   "mimetype": "text/x-python",
   "name": "python",
   "nbconvert_exporter": "python",
   "pygments_lexer": "ipython3",
   "version": "3.7.12"
  }
 },
 "nbformat": 4,
 "nbformat_minor": 5
}
